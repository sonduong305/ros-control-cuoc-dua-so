{
 "nbformat": 4,
 "nbformat_minor": 2,
 "metadata": {
  "language_info": {
   "name": "python",
   "codemirror_mode": {
    "name": "ipython",
    "version": 3
   }
  },
  "orig_nbformat": 2,
  "file_extension": ".py",
  "mimetype": "text/x-python",
  "name": "python",
  "npconvert_exporter": "python",
  "pygments_lexer": "ipython3",
  "version": 3
 },
 "cells": [
  {
   "cell_type": "code",
   "execution_count": 1,
   "metadata": {},
   "outputs": [
    {
     "name": "stderr",
     "output_type": "stream",
     "text": "Using TensorFlow backend.\n/home/sonduong/.local/lib/python3.6/site-packages/tensorflow/python/framework/dtypes.py:516: FutureWarning: Passing (type, 1) or '1type' as a synonym of type is deprecated; in a future version of numpy, it will be understood as (type, (1,)) / '(1,)type'.\n  _np_qint8 = np.dtype([(\"qint8\", np.int8, 1)])\n/home/sonduong/.local/lib/python3.6/site-packages/tensorflow/python/framework/dtypes.py:517: FutureWarning: Passing (type, 1) or '1type' as a synonym of type is deprecated; in a future version of numpy, it will be understood as (type, (1,)) / '(1,)type'.\n  _np_quint8 = np.dtype([(\"quint8\", np.uint8, 1)])\n/home/sonduong/.local/lib/python3.6/site-packages/tensorflow/python/framework/dtypes.py:518: FutureWarning: Passing (type, 1) or '1type' as a synonym of type is deprecated; in a future version of numpy, it will be understood as (type, (1,)) / '(1,)type'.\n  _np_qint16 = np.dtype([(\"qint16\", np.int16, 1)])\n/home/sonduong/.local/lib/python3.6/site-packages/tensorflow/python/framework/dtypes.py:519: FutureWarning: Passing (type, 1) or '1type' as a synonym of type is deprecated; in a future version of numpy, it will be understood as (type, (1,)) / '(1,)type'.\n  _np_quint16 = np.dtype([(\"quint16\", np.uint16, 1)])\n/home/sonduong/.local/lib/python3.6/site-packages/tensorflow/python/framework/dtypes.py:520: FutureWarning: Passing (type, 1) or '1type' as a synonym of type is deprecated; in a future version of numpy, it will be understood as (type, (1,)) / '(1,)type'.\n  _np_qint32 = np.dtype([(\"qint32\", np.int32, 1)])\n/home/sonduong/.local/lib/python3.6/site-packages/tensorflow/python/framework/dtypes.py:525: FutureWarning: Passing (type, 1) or '1type' as a synonym of type is deprecated; in a future version of numpy, it will be understood as (type, (1,)) / '(1,)type'.\n  np_resource = np.dtype([(\"resource\", np.ubyte, 1)])\n/home/sonduong/.local/lib/python3.6/site-packages/tensorboard/compat/tensorflow_stub/dtypes.py:541: FutureWarning: Passing (type, 1) or '1type' as a synonym of type is deprecated; in a future version of numpy, it will be understood as (type, (1,)) / '(1,)type'.\n  _np_qint8 = np.dtype([(\"qint8\", np.int8, 1)])\n/home/sonduong/.local/lib/python3.6/site-packages/tensorboard/compat/tensorflow_stub/dtypes.py:542: FutureWarning: Passing (type, 1) or '1type' as a synonym of type is deprecated; in a future version of numpy, it will be understood as (type, (1,)) / '(1,)type'.\n  _np_quint8 = np.dtype([(\"quint8\", np.uint8, 1)])\n/home/sonduong/.local/lib/python3.6/site-packages/tensorboard/compat/tensorflow_stub/dtypes.py:543: FutureWarning: Passing (type, 1) or '1type' as a synonym of type is deprecated; in a future version of numpy, it will be understood as (type, (1,)) / '(1,)type'.\n  _np_qint16 = np.dtype([(\"qint16\", np.int16, 1)])\n/home/sonduong/.local/lib/python3.6/site-packages/tensorboard/compat/tensorflow_stub/dtypes.py:544: FutureWarning: Passing (type, 1) or '1type' as a synonym of type is deprecated; in a future version of numpy, it will be understood as (type, (1,)) / '(1,)type'.\n  _np_quint16 = np.dtype([(\"quint16\", np.uint16, 1)])\n/home/sonduong/.local/lib/python3.6/site-packages/tensorboard/compat/tensorflow_stub/dtypes.py:545: FutureWarning: Passing (type, 1) or '1type' as a synonym of type is deprecated; in a future version of numpy, it will be understood as (type, (1,)) / '(1,)type'.\n  _np_qint32 = np.dtype([(\"qint32\", np.int32, 1)])\n/home/sonduong/.local/lib/python3.6/site-packages/tensorboard/compat/tensorflow_stub/dtypes.py:550: FutureWarning: Passing (type, 1) or '1type' as a synonym of type is deprecated; in a future version of numpy, it will be understood as (type, (1,)) / '(1,)type'.\n  np_resource = np.dtype([(\"resource\", np.ubyte, 1)])\n"
    }
   ],
   "source": [
    "from keras.preprocessing.image import ImageDataGenerator\n",
    "import numpy as np\n",
    "import cv2"
   ]
  },
  {
   "cell_type": "code",
   "execution_count": 23,
   "metadata": {},
   "outputs": [],
   "source": [
    "datagen = ImageDataGenerator(rotation_range=20, width_shift_range=0.3, \n",
    "height_shift_range=0.3,shear_range=0.15, \n",
    "zoom_range=0.4,channel_shift_range = 30, horizontal_flip=False, brightness_range=[0.1, 1.0])"
   ]
  },
  {
   "cell_type": "code",
   "execution_count": 187,
   "metadata": {},
   "outputs": [],
   "source": [
    "image_path = '/home/sonduong/WS/cuoc-dua-so/data/train/left/left.png'\n",
    "image = cv2.imread(image_path)\n",
    "image = cv2.cvtColor(image, cv2.COLOR_BGR2RGB)\n",
    "image = np.expand_dims(image, 0)\n"
   ]
  },
  {
   "cell_type": "code",
   "execution_count": 188,
   "metadata": {},
   "outputs": [],
   "source": [
    "save_here = '/home/sonduong/WS/cuoc-dua-so/data/train/left'\n",
    "datagen.fit(image)\n"
   ]
  },
  {
   "cell_type": "code",
   "execution_count": 189,
   "metadata": {},
   "outputs": [],
   "source": [
    "for x, val in zip(datagen.flow(image,                    #image we chose\n",
    "        save_to_dir=save_here,     #this is where we figure out where to save\n",
    "         save_prefix='aug',        # it will save the images as 'aug_0912' some number for every new augmented image\n",
    "        save_format='png'),range(100)) :     # here we define a range because we want 10 augmented images otherwise it will keep looping forever I think\n",
    "    pass"
   ]
  },
  {
   "cell_type": "code",
   "execution_count": 2,
   "metadata": {},
   "outputs": [],
   "source": [
    "import os\n",
    "left_path = \"/home/sonduong/WS/cuoc-dua-so/data/train/left/\"\n",
    "right_path = \"/home/sonduong/WS/cuoc-dua-so/data/train/right/\"\n",
    "\n",
    "fleft = os.listdir(left_path)\n",
    "fright = os.listdir(right_path)\n"
   ]
  },
  {
   "cell_type": "code",
   "execution_count": 212,
   "metadata": {},
   "outputs": [],
   "source": [
    "X = []\n",
    "y = []\n",
    "# hog =cv2.HOGDescriptor()\n",
    "\n",
    "for file in fleft:\n",
    "    image = cv2.imread(left_path + file)\n",
    "    image = cv2.cvtColor(image, cv2.COLOR_BGR2RGB)\n",
    "    image = cv2.resize(image, (10, 10))\n",
    "    image = cv2.resize(image, (32, 32))\n",
    "    image = np.reshape(image, (32, 32, 3))\n",
    "\n",
    "    X.append(image)\n",
    "    y.append(0)\n",
    "\n",
    "for file in fright:\n",
    "    image = cv2.imread(right_path + file)\n",
    "    image = cv2.cvtColor(image, cv2.COLOR_BGR2RGB)\n",
    "    image = cv2.resize(image, (10, 10))\n",
    "    image = cv2.resize(image, (32, 32))\n",
    "    image = np.reshape(image, (32, 32, 3))\n",
    "    X.append(image)\n",
    "    y.append(1)\n",
    "\n",
    "X = np.array(X)\n",
    "y = np.array(y)"
   ]
  },
  {
   "cell_type": "code",
   "execution_count": 192,
   "metadata": {},
   "outputs": [],
   "source": [
    "from sklearn.model_selection import train_test_split\n",
    "X_train, X_test , y_train, y_test = train_test_split(X, y, shuffle = True)"
   ]
  },
  {
   "cell_type": "code",
   "execution_count": 193,
   "metadata": {},
   "outputs": [
    {
     "data": {
      "text/plain": "(305, 32, 32, 3)"
     },
     "execution_count": 193,
     "metadata": {},
     "output_type": "execute_result"
    }
   ],
   "source": [
    "X_train.shape"
   ]
  },
  {
   "cell_type": "code",
   "execution_count": 194,
   "metadata": {},
   "outputs": [],
   "source": [
    "from keras.models import Sequential, model_from_json\n",
    "from keras.layers import Dense, Input, Flatten, Lambda, Dropout, Conv2D, MaxPool2D\n",
    "from keras.optimizers import Adam\n",
    "from matplotlib.pyplot import imshow"
   ]
  },
  {
   "cell_type": "code",
   "execution_count": 195,
   "metadata": {},
   "outputs": [
    {
     "name": "stdout",
     "output_type": "stream",
     "text": "Model: \"sequential_32\"\n_________________________________________________________________\nLayer (type)                 Output Shape              Param #   \n=================================================================\nlambda_32 (Lambda)           (None, 32, 32, 3)         0         \n_________________________________________________________________\nconv2d_45 (Conv2D)           (None, 30, 30, 32)        896       \n_________________________________________________________________\nmax_pooling2d_45 (MaxPooling (None, 15, 15, 32)        0         \n_________________________________________________________________\nconv2d_46 (Conv2D)           (None, 13, 13, 16)        4624      \n_________________________________________________________________\nmax_pooling2d_46 (MaxPooling (None, 6, 6, 16)          0         \n_________________________________________________________________\ndropout_76 (Dropout)         (None, 6, 6, 16)          0         \n_________________________________________________________________\nconv2d_47 (Conv2D)           (None, 4, 4, 8)           1160      \n_________________________________________________________________\nmax_pooling2d_47 (MaxPooling (None, 2, 2, 8)           0         \n_________________________________________________________________\nflatten_32 (Flatten)         (None, 32)                0         \n_________________________________________________________________\ndense_62 (Dense)             (None, 8)                 264       \n_________________________________________________________________\ndropout_77 (Dropout)         (None, 8)                 0         \n_________________________________________________________________\ndense_63 (Dense)             (None, 1)                 9         \n=================================================================\nTotal params: 6,953\nTrainable params: 6,953\nNon-trainable params: 0\n_________________________________________________________________\n"
    }
   ],
   "source": [
    "model = Sequential()\n",
    "model.add(Lambda(lambda x: x/127.5-1.0, input_shape=(32, 32, 3)))\n",
    "model.add(Conv2D(32, kernel_size=(3, 3), activation= 'relu'))\n",
    "model.add(MaxPool2D())\n",
    "model.add(Conv2D(16, kernel_size=(3, 3), activation= 'relu'))\n",
    "model.add(MaxPool2D())\n",
    "model.add(Dropout(0.4))\n",
    "model.add(Conv2D(8, kernel_size=(3, 3), activation= 'relu'))\n",
    "model.add(MaxPool2D())\n",
    "\n",
    "model.add(Flatten())\n",
    "# model.add(Dense(512, activation= 'relu'))\n",
    "# model.add(Dropout(0.4))\n",
    "# model.add(Dense(128, activation= 'relu'))\n",
    "# model.add(Dropout(0.4))\n",
    "model.add(Dense(8, activation= 'elu'))\n",
    "model.add(Dropout(0.4))\n",
    "model.add(Dense(1, activation='sigmoid'))\n",
    "model.summary()"
   ]
  },
  {
   "cell_type": "code",
   "execution_count": 200,
   "metadata": {},
   "outputs": [],
   "source": [
    "model.compile(loss=\"binary_crossentropy\", optimizer=Adam(lr=1e-6), metrics=['accuracy'])"
   ]
  },
  {
   "cell_type": "code",
   "execution_count": 201,
   "metadata": {},
   "outputs": [
    {
     "name": "stdout",
     "output_type": "stream",
     "text": "Train on 305 samples, validate on 102 samples\nEpoch 1/30\n305/305 [==============================] - 2s 8ms/step - loss: 0.0838 - acc: 0.9770 - val_loss: 0.0838 - val_acc: 0.9608\nEpoch 2/30\n305/305 [==============================] - 0s 790us/step - loss: 0.0867 - acc: 0.9738 - val_loss: 0.0841 - val_acc: 0.9608\nEpoch 3/30\n305/305 [==============================] - 0s 756us/step - loss: 0.1031 - acc: 0.9803 - val_loss: 0.0843 - val_acc: 0.9608\nEpoch 4/30\n305/305 [==============================] - 0s 771us/step - loss: 0.0804 - acc: 0.9869 - val_loss: 0.0845 - val_acc: 0.9608\nEpoch 5/30\n305/305 [==============================] - 0s 759us/step - loss: 0.0809 - acc: 0.9869 - val_loss: 0.0847 - val_acc: 0.9608\nEpoch 6/30\n305/305 [==============================] - 0s 790us/step - loss: 0.0626 - acc: 0.9902 - val_loss: 0.0846 - val_acc: 0.9608\nEpoch 7/30\n305/305 [==============================] - 0s 748us/step - loss: 0.0745 - acc: 0.9869 - val_loss: 0.0847 - val_acc: 0.9608\nEpoch 8/30\n305/305 [==============================] - 0s 766us/step - loss: 0.0911 - acc: 0.9770 - val_loss: 0.0847 - val_acc: 0.9608\nEpoch 9/30\n305/305 [==============================] - 0s 826us/step - loss: 0.0994 - acc: 0.9738 - val_loss: 0.0847 - val_acc: 0.9608\nEpoch 10/30\n305/305 [==============================] - 0s 792us/step - loss: 0.1206 - acc: 0.9574 - val_loss: 0.0846 - val_acc: 0.9608\nEpoch 11/30\n305/305 [==============================] - 0s 775us/step - loss: 0.1000 - acc: 0.9803 - val_loss: 0.0848 - val_acc: 0.9608\nEpoch 12/30\n305/305 [==============================] - 0s 817us/step - loss: 0.0828 - acc: 0.9934 - val_loss: 0.0848 - val_acc: 0.9608\nEpoch 13/30\n305/305 [==============================] - 0s 794us/step - loss: 0.0844 - acc: 0.9836 - val_loss: 0.0850 - val_acc: 0.9608\nEpoch 14/30\n305/305 [==============================] - 0s 759us/step - loss: 0.0876 - acc: 0.9705 - val_loss: 0.0852 - val_acc: 0.9608\nEpoch 15/30\n305/305 [==============================] - 0s 787us/step - loss: 0.0860 - acc: 0.9770 - val_loss: 0.0852 - val_acc: 0.9608\nEpoch 16/30\n305/305 [==============================] - 0s 840us/step - loss: 0.0912 - acc: 0.9705 - val_loss: 0.0852 - val_acc: 0.9608\nEpoch 17/30\n305/305 [==============================] - 0s 803us/step - loss: 0.1099 - acc: 0.9672 - val_loss: 0.0851 - val_acc: 0.9608\nEpoch 18/30\n305/305 [==============================] - 0s 772us/step - loss: 0.0912 - acc: 0.9705 - val_loss: 0.0852 - val_acc: 0.9608\nEpoch 19/30\n305/305 [==============================] - 0s 789us/step - loss: 0.0686 - acc: 0.9869 - val_loss: 0.0852 - val_acc: 0.9608\nEpoch 20/30\n305/305 [==============================] - 0s 800us/step - loss: 0.0780 - acc: 0.9869 - val_loss: 0.0852 - val_acc: 0.9608\nEpoch 21/30\n305/305 [==============================] - 0s 772us/step - loss: 0.0851 - acc: 0.9869 - val_loss: 0.0853 - val_acc: 0.9608\nEpoch 22/30\n305/305 [==============================] - 0s 763us/step - loss: 0.0843 - acc: 0.9803 - val_loss: 0.0853 - val_acc: 0.9608\nEpoch 23/30\n305/305 [==============================] - 0s 770us/step - loss: 0.0814 - acc: 0.9738 - val_loss: 0.0851 - val_acc: 0.9608\nEpoch 24/30\n305/305 [==============================] - 0s 753us/step - loss: 0.0865 - acc: 0.9705 - val_loss: 0.0851 - val_acc: 0.9608\nEpoch 25/30\n305/305 [==============================] - 0s 752us/step - loss: 0.0806 - acc: 0.9803 - val_loss: 0.0852 - val_acc: 0.9608\nEpoch 26/30\n305/305 [==============================] - 0s 825us/step - loss: 0.0918 - acc: 0.9836 - val_loss: 0.0854 - val_acc: 0.9608\nEpoch 27/30\n305/305 [==============================] - 0s 761us/step - loss: 0.0846 - acc: 0.9803 - val_loss: 0.0854 - val_acc: 0.9608\nEpoch 28/30\n305/305 [==============================] - 0s 811us/step - loss: 0.0719 - acc: 0.9869 - val_loss: 0.0855 - val_acc: 0.9608\nEpoch 29/30\n305/305 [==============================] - 0s 761us/step - loss: 0.0844 - acc: 0.9803 - val_loss: 0.0855 - val_acc: 0.9608\nEpoch 30/30\n305/305 [==============================] - 0s 810us/step - loss: 0.0949 - acc: 0.9770 - val_loss: 0.0857 - val_acc: 0.9608\n"
    },
    {
     "data": {
      "text/plain": "<keras.callbacks.History at 0x7f7983a8f6a0>"
     },
     "execution_count": 201,
     "metadata": {},
     "output_type": "execute_result"
    }
   ],
   "source": [
    "model.fit(X_train, y_train, batch_size= 8, epochs=30, validation_data=(X_test, y_test))"
   ]
  },
  {
   "cell_type": "code",
   "execution_count": 202,
   "metadata": {},
   "outputs": [
    {
     "data": {
      "text/plain": "array([[0.65382034]], dtype=float32)"
     },
     "execution_count": 202,
     "metadata": {},
     "output_type": "execute_result"
    }
   ],
   "source": [
    "i = 22\n",
    "y_pr = model.predict(np.array([X_test[i]]), batch_size= 1)\n",
    "y_pr"
   ]
  },
  {
   "cell_type": "code",
   "execution_count": 203,
   "metadata": {},
   "outputs": [
    {
     "data": {
      "text/plain": "<matplotlib.image.AxesImage at 0x7f7983385e48>"
     },
     "execution_count": 203,
     "metadata": {},
     "output_type": "execute_result"
    },
    {
     "data": {
      "image/png": "[encoded data removed]",
      "image/svg+xml": "<?xml version=\"1.0\" encoding=\"utf-8\" standalone=\"no\"?>\n<!DOCTYPE svg PUBLIC \"-//W3C//DTD SVG 1.1//EN\"\n  \"http://www.w3.org/Graphics/SVG/1.1/DTD/svg11.dtd\">\n<!-- Created with matplotlib (https://matplotlib.org/) -->\n<svg height=\"252.018125pt\" version=\"1.1\" viewBox=\"0 0 255.065 252.018125\" width=\"255.065pt\" xmlns=\"http://www.w3.org/2000/svg\" xmlns:xlink=\"http://www.w3.org/1999/xlink\">\n <defs>\n  <style type=\"text/css\">\n*{stroke-linecap:butt;stroke-linejoin:round;}\n  </style>\n </defs>\n <g id=\"figure_1\">\n  <g id=\"patch_1\">\n   <path d=\"M 0 252.018125 \nL 255.065 252.018125 \nL 255.065 0 \nL 0 0 \nz\n\"/>\n  </g>\n  <g id=\"axes_1\">\n   <g id=\"patch_2\">\n    <path d=\"M 26.925 228.14 \nL 244.365 228.14 \nL 244.365 10.7 \nL 26.925 10.7 \nz\n\"/>\n   </g>\n   <g clip-path=\"url(#paa964cce88)\">\n    <image height=\"218\" id=\"image4687e12d94\" transform=\"scale(1 -1)translate(0 -218)\" width=\"218\" x=\"26.925\" xlink:href=\"data:image/png;base64,\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\" y=\"-10.14\"/>\n   </g>\n   <g id=\"matplotlib.axis_1\">\n    <g id=\"xtick_1\">\n     <g id=\"line2d_1\">\n      <defs>\n       <path d=\"M 0 0 \nL 0 3.5 \n\" id=\"m413177efbc\" style=\"stroke:#ffffff;stroke-width:0.8;\"/>\n      </defs>\n      <g>\n       <use style=\"fill:#ffffff;stroke:#ffffff;stroke-width:0.8;\" x=\"30.3225\" xlink:href=\"#m413177efbc\" y=\"228.14\"/>\n      </g>\n     </g>\n     <g id=\"text_1\">\n      <!-- 0 -->\n      <defs>\n       <path d=\"M 31.78125 66.40625 \nQ 24.171875 66.40625 20.328125 58.90625 \nQ 16.5 51.421875 16.5 36.375 \nQ 16.5 21.390625 20.328125 13.890625 \nQ 24.171875 6.390625 31.78125 6.390625 \nQ 39.453125 6.390625 43.28125 13.890625 \nQ 47.125 21.390625 47.125 36.375 \nQ 47.125 51.421875 43.28125 58.90625 \nQ 39.453125 66.40625 31.78125 66.40625 \nz\nM 31.78125 74.21875 \nQ 44.046875 74.21875 50.515625 64.515625 \nQ 56.984375 54.828125 56.984375 36.375 \nQ 56.984375 17.96875 50.515625 8.265625 \nQ 44.046875 -1.421875 31.78125 -1.421875 \nQ 19.53125 -1.421875 13.0625 8.265625 \nQ 6.59375 17.96875 6.59375 36.375 \nQ 6.59375 54.828125 13.0625 64.515625 \nQ 19.53125 74.21875 31.78125 74.21875 \nz\n\" id=\"DejaVuSans-48\"/>\n      </defs>\n      <g style=\"fill:#ffffff;\" transform=\"translate(27.14125 242.738437)scale(0.1 -0.1)\">\n       <use xlink:href=\"#DejaVuSans-48\"/>\n      </g>\n     </g>\n    </g>\n    <g id=\"xtick_2\">\n     <g id=\"line2d_2\">\n      <g>\n       <use style=\"fill:#ffffff;stroke:#ffffff;stroke-width:0.8;\" x=\"64.2975\" xlink:href=\"#m413177efbc\" y=\"228.14\"/>\n      </g>\n     </g>\n     <g id=\"text_2\">\n      <!-- 5 -->\n      <defs>\n       <path d=\"M 10.796875 72.90625 \nL 49.515625 72.90625 \nL 49.515625 64.59375 \nL 19.828125 64.59375 \nL 19.828125 46.734375 \nQ 21.96875 47.46875 24.109375 47.828125 \nQ 26.265625 48.1875 28.421875 48.1875 \nQ 40.625 48.1875 47.75 41.5 \nQ 54.890625 34.8125 54.890625 23.390625 \nQ 54.890625 11.625 47.5625 5.09375 \nQ 40.234375 -1.421875 26.90625 -1.421875 \nQ 22.3125 -1.421875 17.546875 -0.640625 \nQ 12.796875 0.140625 7.71875 1.703125 \nL 7.71875 11.625 \nQ 12.109375 9.234375 16.796875 8.0625 \nQ 21.484375 6.890625 26.703125 6.890625 \nQ 35.15625 6.890625 40.078125 11.328125 \nQ 45.015625 15.765625 45.015625 23.390625 \nQ 45.015625 31 40.078125 35.4375 \nQ 35.15625 39.890625 26.703125 39.890625 \nQ 22.75 39.890625 18.8125 39.015625 \nQ 14.890625 38.140625 10.796875 36.28125 \nz\n\" id=\"DejaVuSans-53\"/>\n      </defs>\n      <g style=\"fill:#ffffff;\" transform=\"translate(61.11625 242.738437)scale(0.1 -0.1)\">\n       <use xlink:href=\"#DejaVuSans-53\"/>\n      </g>\n     </g>\n    </g>\n    <g id=\"xtick_3\">\n     <g id=\"line2d_3\">\n      <g>\n       <use style=\"fill:#ffffff;stroke:#ffffff;stroke-width:0.8;\" x=\"98.2725\" xlink:href=\"#m413177efbc\" y=\"228.14\"/>\n      </g>\n     </g>\n     <g id=\"text_3\">\n      <!-- 10 -->\n      <defs>\n       <path d=\"M 12.40625 8.296875 \nL 28.515625 8.296875 \nL 28.515625 63.921875 \nL 10.984375 60.40625 \nL 10.984375 69.390625 \nL 28.421875 72.90625 \nL 38.28125 72.90625 \nL 38.28125 8.296875 \nL 54.390625 8.296875 \nL 54.390625 0 \nL 12.40625 0 \nz\n\" id=\"DejaVuSans-49\"/>\n      </defs>\n      <g style=\"fill:#ffffff;\" transform=\"translate(91.91 242.738437)scale(0.1 -0.1)\">\n       <use xlink:href=\"#DejaVuSans-49\"/>\n       <use x=\"63.623047\" xlink:href=\"#DejaVuSans-48\"/>\n      </g>\n     </g>\n    </g>\n    <g id=\"xtick_4\">\n     <g id=\"line2d_4\">\n      <g>\n       <use style=\"fill:#ffffff;stroke:#ffffff;stroke-width:0.8;\" x=\"132.2475\" xlink:href=\"#m413177efbc\" y=\"228.14\"/>\n      </g>\n     </g>\n     <g id=\"text_4\">\n      <!-- 15 -->\n      <g style=\"fill:#ffffff;\" transform=\"translate(125.885 242.738437)scale(0.1 -0.1)\">\n       <use xlink:href=\"#DejaVuSans-49\"/>\n       <use x=\"63.623047\" xlink:href=\"#DejaVuSans-53\"/>\n      </g>\n     </g>\n    </g>\n    <g id=\"xtick_5\">\n     <g id=\"line2d_5\">\n      <g>\n       <use style=\"fill:#ffffff;stroke:#ffffff;stroke-width:0.8;\" x=\"166.2225\" xlink:href=\"#m413177efbc\" y=\"228.14\"/>\n      </g>\n     </g>\n     <g id=\"text_5\">\n      <!-- 20 -->\n      <defs>\n       <path d=\"M 19.1875 8.296875 \nL 53.609375 8.296875 \nL 53.609375 0 \nL 7.328125 0 \nL 7.328125 8.296875 \nQ 12.9375 14.109375 22.625 23.890625 \nQ 32.328125 33.6875 34.8125 36.53125 \nQ 39.546875 41.84375 41.421875 45.53125 \nQ 43.3125 49.21875 43.3125 52.78125 \nQ 43.3125 58.59375 39.234375 62.25 \nQ 35.15625 65.921875 28.609375 65.921875 \nQ 23.96875 65.921875 18.8125 64.3125 \nQ 13.671875 62.703125 7.8125 59.421875 \nL 7.8125 69.390625 \nQ 13.765625 71.78125 18.9375 73 \nQ 24.125 74.21875 28.421875 74.21875 \nQ 39.75 74.21875 46.484375 68.546875 \nQ 53.21875 62.890625 53.21875 53.421875 \nQ 53.21875 48.921875 51.53125 44.890625 \nQ 49.859375 40.875 45.40625 35.40625 \nQ 44.1875 33.984375 37.640625 27.21875 \nQ 31.109375 20.453125 19.1875 8.296875 \nz\n\" id=\"DejaVuSans-50\"/>\n      </defs>\n      <g style=\"fill:#ffffff;\" transform=\"translate(159.86 242.738437)scale(0.1 -0.1)\">\n       <use xlink:href=\"#DejaVuSans-50\"/>\n       <use x=\"63.623047\" xlink:href=\"#DejaVuSans-48\"/>\n      </g>\n     </g>\n    </g>\n    <g id=\"xtick_6\">\n     <g id=\"line2d_6\">\n      <g>\n       <use style=\"fill:#ffffff;stroke:#ffffff;stroke-width:0.8;\" x=\"200.1975\" xlink:href=\"#m413177efbc\" y=\"228.14\"/>\n      </g>\n     </g>\n     <g id=\"text_6\">\n      <!-- 25 -->\n      <g style=\"fill:#ffffff;\" transform=\"translate(193.835 242.738437)scale(0.1 -0.1)\">\n       <use xlink:href=\"#DejaVuSans-50\"/>\n       <use x=\"63.623047\" xlink:href=\"#DejaVuSans-53\"/>\n      </g>\n     </g>\n    </g>\n    <g id=\"xtick_7\">\n     <g id=\"line2d_7\">\n      <g>\n       <use style=\"fill:#ffffff;stroke:#ffffff;stroke-width:0.8;\" x=\"234.1725\" xlink:href=\"#m413177efbc\" y=\"228.14\"/>\n      </g>\n     </g>\n     <g id=\"text_7\">\n      <!-- 30 -->\n      <defs>\n       <path d=\"M 40.578125 39.3125 \nQ 47.65625 37.796875 51.625 33 \nQ 55.609375 28.21875 55.609375 21.1875 \nQ 55.609375 10.40625 48.1875 4.484375 \nQ 40.765625 -1.421875 27.09375 -1.421875 \nQ 22.515625 -1.421875 17.65625 -0.515625 \nQ 12.796875 0.390625 7.625 2.203125 \nL 7.625 11.71875 \nQ 11.71875 9.328125 16.59375 8.109375 \nQ 21.484375 6.890625 26.8125 6.890625 \nQ 36.078125 6.890625 40.9375 10.546875 \nQ 45.796875 14.203125 45.796875 21.1875 \nQ 45.796875 27.640625 41.28125 31.265625 \nQ 36.765625 34.90625 28.71875 34.90625 \nL 20.21875 34.90625 \nL 20.21875 43.015625 \nL 29.109375 43.015625 \nQ 36.375 43.015625 40.234375 45.921875 \nQ 44.09375 48.828125 44.09375 54.296875 \nQ 44.09375 59.90625 40.109375 62.90625 \nQ 36.140625 65.921875 28.71875 65.921875 \nQ 24.65625 65.921875 20.015625 65.03125 \nQ 15.375 64.15625 9.8125 62.3125 \nL 9.8125 71.09375 \nQ 15.4375 72.65625 20.34375 73.4375 \nQ 25.25 74.21875 29.59375 74.21875 \nQ 40.828125 74.21875 47.359375 69.109375 \nQ 53.90625 64.015625 53.90625 55.328125 \nQ 53.90625 49.265625 50.4375 45.09375 \nQ 46.96875 40.921875 40.578125 39.3125 \nz\n\" id=\"DejaVuSans-51\"/>\n      </defs>\n      <g style=\"fill:#ffffff;\" transform=\"translate(227.81 242.738437)scale(0.1 -0.1)\">\n       <use xlink:href=\"#DejaVuSans-51\"/>\n       <use x=\"63.623047\" xlink:href=\"#DejaVuSans-48\"/>\n      </g>\n     </g>\n    </g>\n   </g>\n   <g id=\"matplotlib.axis_2\">\n    <g id=\"ytick_1\">\n     <g id=\"line2d_8\">\n      <defs>\n       <path d=\"M 0 0 \nL -3.5 0 \n\" id=\"m9f927456e0\" style=\"stroke:#ffffff;stroke-width:0.8;\"/>\n      </defs>\n      <g>\n       <use style=\"fill:#ffffff;stroke:#ffffff;stroke-width:0.8;\" x=\"26.925\" xlink:href=\"#m9f927456e0\" y=\"14.0975\"/>\n      </g>\n     </g>\n     <g id=\"text_8\">\n      <!-- 0 -->\n      <g style=\"fill:#ffffff;\" transform=\"translate(13.5625 17.896719)scale(0.1 -0.1)\">\n       <use xlink:href=\"#DejaVuSans-48\"/>\n      </g>\n     </g>\n    </g>\n    <g id=\"ytick_2\">\n     <g id=\"line2d_9\">\n      <g>\n       <use style=\"fill:#ffffff;stroke:#ffffff;stroke-width:0.8;\" x=\"26.925\" xlink:href=\"#m9f927456e0\" y=\"48.0725\"/>\n      </g>\n     </g>\n     <g id=\"text_9\">\n      <!-- 5 -->\n      <g style=\"fill:#ffffff;\" transform=\"translate(13.5625 51.871719)scale(0.1 -0.1)\">\n       <use xlink:href=\"#DejaVuSans-53\"/>\n      </g>\n     </g>\n    </g>\n    <g id=\"ytick_3\">\n     <g id=\"line2d_10\">\n      <g>\n       <use style=\"fill:#ffffff;stroke:#ffffff;stroke-width:0.8;\" x=\"26.925\" xlink:href=\"#m9f927456e0\" y=\"82.0475\"/>\n      </g>\n     </g>\n     <g id=\"text_10\">\n      <!-- 10 -->\n      <g style=\"fill:#ffffff;\" transform=\"translate(7.2 85.846719)scale(0.1 -0.1)\">\n       <use xlink:href=\"#DejaVuSans-49\"/>\n       <use x=\"63.623047\" xlink:href=\"#DejaVuSans-48\"/>\n      </g>\n     </g>\n    </g>\n    <g id=\"ytick_4\">\n     <g id=\"line2d_11\">\n      <g>\n       <use style=\"fill:#ffffff;stroke:#ffffff;stroke-width:0.8;\" x=\"26.925\" xlink:href=\"#m9f927456e0\" y=\"116.0225\"/>\n      </g>\n     </g>\n     <g id=\"text_11\">\n      <!-- 15 -->\n      <g style=\"fill:#ffffff;\" transform=\"translate(7.2 119.821719)scale(0.1 -0.1)\">\n       <use xlink:href=\"#DejaVuSans-49\"/>\n       <use x=\"63.623047\" xlink:href=\"#DejaVuSans-53\"/>\n      </g>\n     </g>\n    </g>\n    <g id=\"ytick_5\">\n     <g id=\"line2d_12\">\n      <g>\n       <use style=\"fill:#ffffff;stroke:#ffffff;stroke-width:0.8;\" x=\"26.925\" xlink:href=\"#m9f927456e0\" y=\"149.9975\"/>\n      </g>\n     </g>\n     <g id=\"text_12\">\n      <!-- 20 -->\n      <g style=\"fill:#ffffff;\" transform=\"translate(7.2 153.796719)scale(0.1 -0.1)\">\n       <use xlink:href=\"#DejaVuSans-50\"/>\n       <use x=\"63.623047\" xlink:href=\"#DejaVuSans-48\"/>\n      </g>\n     </g>\n    </g>\n    <g id=\"ytick_6\">\n     <g id=\"line2d_13\">\n      <g>\n       <use style=\"fill:#ffffff;stroke:#ffffff;stroke-width:0.8;\" x=\"26.925\" xlink:href=\"#m9f927456e0\" y=\"183.9725\"/>\n      </g>\n     </g>\n     <g id=\"text_13\">\n      <!-- 25 -->\n      <g style=\"fill:#ffffff;\" transform=\"translate(7.2 187.771719)scale(0.1 -0.1)\">\n       <use xlink:href=\"#DejaVuSans-50\"/>\n       <use x=\"63.623047\" xlink:href=\"#DejaVuSans-53\"/>\n      </g>\n     </g>\n    </g>\n    <g id=\"ytick_7\">\n     <g id=\"line2d_14\">\n      <g>\n       <use style=\"fill:#ffffff;stroke:#ffffff;stroke-width:0.8;\" x=\"26.925\" xlink:href=\"#m9f927456e0\" y=\"217.9475\"/>\n      </g>\n     </g>\n     <g id=\"text_14\">\n      <!-- 30 -->\n      <g style=\"fill:#ffffff;\" transform=\"translate(7.2 221.746719)scale(0.1 -0.1)\">\n       <use xlink:href=\"#DejaVuSans-51\"/>\n       <use x=\"63.623047\" xlink:href=\"#DejaVuSans-48\"/>\n      </g>\n     </g>\n    </g>\n   </g>\n   <g id=\"patch_3\">\n    <path d=\"M 26.925 228.14 \nL 26.925 10.7 \n\" style=\"fill:none;stroke:#ffffff;stroke-linecap:square;stroke-linejoin:miter;stroke-width:0.8;\"/>\n   </g>\n   <g id=\"patch_4\">\n    <path d=\"M 244.365 228.14 \nL 244.365 10.7 \n\" style=\"fill:none;stroke:#ffffff;stroke-linecap:square;stroke-linejoin:miter;stroke-width:0.8;\"/>\n   </g>\n   <g id=\"patch_5\">\n    <path d=\"M 26.925 228.14 \nL 244.365 228.14 \n\" style=\"fill:none;stroke:#ffffff;stroke-linecap:square;stroke-linejoin:miter;stroke-width:0.8;\"/>\n   </g>\n   <g id=\"patch_6\">\n    <path d=\"M 26.925 10.7 \nL 244.365 10.7 \n\" style=\"fill:none;stroke:#ffffff;stroke-linecap:square;stroke-linejoin:miter;stroke-width:0.8;\"/>\n   </g>\n  </g>\n </g>\n <defs>\n  <clipPath id=\"paa964cce88\">\n   <rect height=\"217.44\" width=\"217.44\" x=\"26.925\" y=\"10.7\"/>\n  </clipPath>\n </defs>\n</svg>\n",
      "text/plain": "<Figure size 432x288 with 1 Axes>"
     },
     "metadata": {},
     "output_type": "display_data"
    }
   ],
   "source": [
    "imshow(X_test[i, : ,: , :])"
   ]
  },
  {
   "cell_type": "code",
   "execution_count": 81,
   "metadata": {},
   "outputs": [
    {
     "data": {
      "text/plain": "array([0, 1, 0, 1, 0, 0, 0, 1, 1, 1, 0, 0, 1, 0, 0, 0, 1, 0, 1, 1, 1, 1,\n       1, 1, 0, 1, 1, 1, 0, 1, 0, 1, 1, 1, 1, 0, 0, 1, 1, 1, 1, 0, 1, 1,\n       0, 0, 0, 0, 0, 0, 1, 1])"
     },
     "execution_count": 81,
     "metadata": {},
     "output_type": "execute_result"
    }
   ],
   "source": [
    "y_test"
   ]
  },
  {
   "cell_type": "code",
   "execution_count": 204,
   "metadata": {},
   "outputs": [
    {
     "name": "stdout",
     "output_type": "stream",
     "text": "Saved model to disk\n"
    }
   ],
   "source": [
    "# serialize model to JSON\n",
    "model_json = model.to_json()\n",
    "with open(\"model.json\", \"w\") as json_file:\n",
    "    json_file.write(model_json)\n",
    "# serialize weights to HDF5\n",
    "model.save_weights(\"model.h5\")\n",
    "print(\"Saved model to disk\")"
   ]
  },
  {
   "cell_type": "code",
   "execution_count": 210,
   "metadata": {},
   "outputs": [
    {
     "data": {
      "text/plain": "<matplotlib.image.AxesImage at 0x7f798327b898>"
     },
     "execution_count": 210,
     "metadata": {},
     "output_type": "execute_result"
    },
    {
     "data": {
      "image/png": "[encoded data removed]",
      "image/svg+xml": "<?xml version=\"1.0\" encoding=\"utf-8\" standalone=\"no\"?>\n<!DOCTYPE svg PUBLIC \"-//W3C//DTD SVG 1.1//EN\"\n  \"http://www.w3.org/Graphics/SVG/1.1/DTD/svg11.dtd\">\n<!-- Created with matplotlib (https://matplotlib.org/) -->\n<svg height=\"252.018125pt\" version=\"1.1\" viewBox=\"0 0 255.065 252.018125\" width=\"255.065pt\" xmlns=\"http://www.w3.org/2000/svg\" xmlns:xlink=\"http://www.w3.org/1999/xlink\">\n <defs>\n  <style type=\"text/css\">\n*{stroke-linecap:butt;stroke-linejoin:round;}\n  </style>\n </defs>\n <g id=\"figure_1\">\n  <g id=\"patch_1\">\n   <path d=\"M 0 252.018125 \nL 255.065 252.018125 \nL 255.065 0 \nL 0 0 \nz\n\"/>\n  </g>\n  <g id=\"axes_1\">\n   <g id=\"patch_2\">\n    <path d=\"M 26.925 228.14 \nL 244.365 228.14 \nL 244.365 10.7 \nL 26.925 10.7 \nz\n\"/>\n   </g>\n   <g clip-path=\"url(#p8ac603a755)\">\n    <image height=\"218\" id=\"image48f42fef7b\" transform=\"scale(1 -1)translate(0 -218)\" width=\"218\" x=\"26.925\" xlink:href=\"data:image/png;base64,\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\" y=\"-10.14\"/>\n   </g>\n   <g id=\"matplotlib.axis_1\">\n    <g id=\"xtick_1\">\n     <g id=\"line2d_1\">\n      <defs>\n       <path d=\"M 0 0 \nL 0 3.5 \n\" id=\"m85b69a629c\" style=\"stroke:#ffffff;stroke-width:0.8;\"/>\n      </defs>\n      <g>\n       <use style=\"fill:#ffffff;stroke:#ffffff;stroke-width:0.8;\" x=\"30.3225\" xlink:href=\"#m85b69a629c\" y=\"228.14\"/>\n      </g>\n     </g>\n     <g id=\"text_1\">\n      <!-- 0 -->\n      <defs>\n       <path d=\"M 31.78125 66.40625 \nQ 24.171875 66.40625 20.328125 58.90625 \nQ 16.5 51.421875 16.5 36.375 \nQ 16.5 21.390625 20.328125 13.890625 \nQ 24.171875 6.390625 31.78125 6.390625 \nQ 39.453125 6.390625 43.28125 13.890625 \nQ 47.125 21.390625 47.125 36.375 \nQ 47.125 51.421875 43.28125 58.90625 \nQ 39.453125 66.40625 31.78125 66.40625 \nz\nM 31.78125 74.21875 \nQ 44.046875 74.21875 50.515625 64.515625 \nQ 56.984375 54.828125 56.984375 36.375 \nQ 56.984375 17.96875 50.515625 8.265625 \nQ 44.046875 -1.421875 31.78125 -1.421875 \nQ 19.53125 -1.421875 13.0625 8.265625 \nQ 6.59375 17.96875 6.59375 36.375 \nQ 6.59375 54.828125 13.0625 64.515625 \nQ 19.53125 74.21875 31.78125 74.21875 \nz\n\" id=\"DejaVuSans-48\"/>\n      </defs>\n      <g style=\"fill:#ffffff;\" transform=\"translate(27.14125 242.738437)scale(0.1 -0.1)\">\n       <use xlink:href=\"#DejaVuSans-48\"/>\n      </g>\n     </g>\n    </g>\n    <g id=\"xtick_2\">\n     <g id=\"line2d_2\">\n      <g>\n       <use style=\"fill:#ffffff;stroke:#ffffff;stroke-width:0.8;\" x=\"64.2975\" xlink:href=\"#m85b69a629c\" y=\"228.14\"/>\n      </g>\n     </g>\n     <g id=\"text_2\">\n      <!-- 5 -->\n      <defs>\n       <path d=\"M 10.796875 72.90625 \nL 49.515625 72.90625 \nL 49.515625 64.59375 \nL 19.828125 64.59375 \nL 19.828125 46.734375 \nQ 21.96875 47.46875 24.109375 47.828125 \nQ 26.265625 48.1875 28.421875 48.1875 \nQ 40.625 48.1875 47.75 41.5 \nQ 54.890625 34.8125 54.890625 23.390625 \nQ 54.890625 11.625 47.5625 5.09375 \nQ 40.234375 -1.421875 26.90625 -1.421875 \nQ 22.3125 -1.421875 17.546875 -0.640625 \nQ 12.796875 0.140625 7.71875 1.703125 \nL 7.71875 11.625 \nQ 12.109375 9.234375 16.796875 8.0625 \nQ 21.484375 6.890625 26.703125 6.890625 \nQ 35.15625 6.890625 40.078125 11.328125 \nQ 45.015625 15.765625 45.015625 23.390625 \nQ 45.015625 31 40.078125 35.4375 \nQ 35.15625 39.890625 26.703125 39.890625 \nQ 22.75 39.890625 18.8125 39.015625 \nQ 14.890625 38.140625 10.796875 36.28125 \nz\n\" id=\"DejaVuSans-53\"/>\n      </defs>\n      <g style=\"fill:#ffffff;\" transform=\"translate(61.11625 242.738437)scale(0.1 -0.1)\">\n       <use xlink:href=\"#DejaVuSans-53\"/>\n      </g>\n     </g>\n    </g>\n    <g id=\"xtick_3\">\n     <g id=\"line2d_3\">\n      <g>\n       <use style=\"fill:#ffffff;stroke:#ffffff;stroke-width:0.8;\" x=\"98.2725\" xlink:href=\"#m85b69a629c\" y=\"228.14\"/>\n      </g>\n     </g>\n     <g id=\"text_3\">\n      <!-- 10 -->\n      <defs>\n       <path d=\"M 12.40625 8.296875 \nL 28.515625 8.296875 \nL 28.515625 63.921875 \nL 10.984375 60.40625 \nL 10.984375 69.390625 \nL 28.421875 72.90625 \nL 38.28125 72.90625 \nL 38.28125 8.296875 \nL 54.390625 8.296875 \nL 54.390625 0 \nL 12.40625 0 \nz\n\" id=\"DejaVuSans-49\"/>\n      </defs>\n      <g style=\"fill:#ffffff;\" transform=\"translate(91.91 242.738437)scale(0.1 -0.1)\">\n       <use xlink:href=\"#DejaVuSans-49\"/>\n       <use x=\"63.623047\" xlink:href=\"#DejaVuSans-48\"/>\n      </g>\n     </g>\n    </g>\n    <g id=\"xtick_4\">\n     <g id=\"line2d_4\">\n      <g>\n       <use style=\"fill:#ffffff;stroke:#ffffff;stroke-width:0.8;\" x=\"132.2475\" xlink:href=\"#m85b69a629c\" y=\"228.14\"/>\n      </g>\n     </g>\n     <g id=\"text_4\">\n      <!-- 15 -->\n      <g style=\"fill:#ffffff;\" transform=\"translate(125.885 242.738437)scale(0.1 -0.1)\">\n       <use xlink:href=\"#DejaVuSans-49\"/>\n       <use x=\"63.623047\" xlink:href=\"#DejaVuSans-53\"/>\n      </g>\n     </g>\n    </g>\n    <g id=\"xtick_5\">\n     <g id=\"line2d_5\">\n      <g>\n       <use style=\"fill:#ffffff;stroke:#ffffff;stroke-width:0.8;\" x=\"166.2225\" xlink:href=\"#m85b69a629c\" y=\"228.14\"/>\n      </g>\n     </g>\n     <g id=\"text_5\">\n      <!-- 20 -->\n      <defs>\n       <path d=\"M 19.1875 8.296875 \nL 53.609375 8.296875 \nL 53.609375 0 \nL 7.328125 0 \nL 7.328125 8.296875 \nQ 12.9375 14.109375 22.625 23.890625 \nQ 32.328125 33.6875 34.8125 36.53125 \nQ 39.546875 41.84375 41.421875 45.53125 \nQ 43.3125 49.21875 43.3125 52.78125 \nQ 43.3125 58.59375 39.234375 62.25 \nQ 35.15625 65.921875 28.609375 65.921875 \nQ 23.96875 65.921875 18.8125 64.3125 \nQ 13.671875 62.703125 7.8125 59.421875 \nL 7.8125 69.390625 \nQ 13.765625 71.78125 18.9375 73 \nQ 24.125 74.21875 28.421875 74.21875 \nQ 39.75 74.21875 46.484375 68.546875 \nQ 53.21875 62.890625 53.21875 53.421875 \nQ 53.21875 48.921875 51.53125 44.890625 \nQ 49.859375 40.875 45.40625 35.40625 \nQ 44.1875 33.984375 37.640625 27.21875 \nQ 31.109375 20.453125 19.1875 8.296875 \nz\n\" id=\"DejaVuSans-50\"/>\n      </defs>\n      <g style=\"fill:#ffffff;\" transform=\"translate(159.86 242.738437)scale(0.1 -0.1)\">\n       <use xlink:href=\"#DejaVuSans-50\"/>\n       <use x=\"63.623047\" xlink:href=\"#DejaVuSans-48\"/>\n      </g>\n     </g>\n    </g>\n    <g id=\"xtick_6\">\n     <g id=\"line2d_6\">\n      <g>\n       <use style=\"fill:#ffffff;stroke:#ffffff;stroke-width:0.8;\" x=\"200.1975\" xlink:href=\"#m85b69a629c\" y=\"228.14\"/>\n      </g>\n     </g>\n     <g id=\"text_6\">\n      <!-- 25 -->\n      <g style=\"fill:#ffffff;\" transform=\"translate(193.835 242.738437)scale(0.1 -0.1)\">\n       <use xlink:href=\"#DejaVuSans-50\"/>\n       <use x=\"63.623047\" xlink:href=\"#DejaVuSans-53\"/>\n      </g>\n     </g>\n    </g>\n    <g id=\"xtick_7\">\n     <g id=\"line2d_7\">\n      <g>\n       <use style=\"fill:#ffffff;stroke:#ffffff;stroke-width:0.8;\" x=\"234.1725\" xlink:href=\"#m85b69a629c\" y=\"228.14\"/>\n      </g>\n     </g>\n     <g id=\"text_7\">\n      <!-- 30 -->\n      <defs>\n       <path d=\"M 40.578125 39.3125 \nQ 47.65625 37.796875 51.625 33 \nQ 55.609375 28.21875 55.609375 21.1875 \nQ 55.609375 10.40625 48.1875 4.484375 \nQ 40.765625 -1.421875 27.09375 -1.421875 \nQ 22.515625 -1.421875 17.65625 -0.515625 \nQ 12.796875 0.390625 7.625 2.203125 \nL 7.625 11.71875 \nQ 11.71875 9.328125 16.59375 8.109375 \nQ 21.484375 6.890625 26.8125 6.890625 \nQ 36.078125 6.890625 40.9375 10.546875 \nQ 45.796875 14.203125 45.796875 21.1875 \nQ 45.796875 27.640625 41.28125 31.265625 \nQ 36.765625 34.90625 28.71875 34.90625 \nL 20.21875 34.90625 \nL 20.21875 43.015625 \nL 29.109375 43.015625 \nQ 36.375 43.015625 40.234375 45.921875 \nQ 44.09375 48.828125 44.09375 54.296875 \nQ 44.09375 59.90625 40.109375 62.90625 \nQ 36.140625 65.921875 28.71875 65.921875 \nQ 24.65625 65.921875 20.015625 65.03125 \nQ 15.375 64.15625 9.8125 62.3125 \nL 9.8125 71.09375 \nQ 15.4375 72.65625 20.34375 73.4375 \nQ 25.25 74.21875 29.59375 74.21875 \nQ 40.828125 74.21875 47.359375 69.109375 \nQ 53.90625 64.015625 53.90625 55.328125 \nQ 53.90625 49.265625 50.4375 45.09375 \nQ 46.96875 40.921875 40.578125 39.3125 \nz\n\" id=\"DejaVuSans-51\"/>\n      </defs>\n      <g style=\"fill:#ffffff;\" transform=\"translate(227.81 242.738437)scale(0.1 -0.1)\">\n       <use xlink:href=\"#DejaVuSans-51\"/>\n       <use x=\"63.623047\" xlink:href=\"#DejaVuSans-48\"/>\n      </g>\n     </g>\n    </g>\n   </g>\n   <g id=\"matplotlib.axis_2\">\n    <g id=\"ytick_1\">\n     <g id=\"line2d_8\">\n      <defs>\n       <path d=\"M 0 0 \nL -3.5 0 \n\" id=\"m010eab0c91\" style=\"stroke:#ffffff;stroke-width:0.8;\"/>\n      </defs>\n      <g>\n       <use style=\"fill:#ffffff;stroke:#ffffff;stroke-width:0.8;\" x=\"26.925\" xlink:href=\"#m010eab0c91\" y=\"14.0975\"/>\n      </g>\n     </g>\n     <g id=\"text_8\">\n      <!-- 0 -->\n      <g style=\"fill:#ffffff;\" transform=\"translate(13.5625 17.896719)scale(0.1 -0.1)\">\n       <use xlink:href=\"#DejaVuSans-48\"/>\n      </g>\n     </g>\n    </g>\n    <g id=\"ytick_2\">\n     <g id=\"line2d_9\">\n      <g>\n       <use style=\"fill:#ffffff;stroke:#ffffff;stroke-width:0.8;\" x=\"26.925\" xlink:href=\"#m010eab0c91\" y=\"48.0725\"/>\n      </g>\n     </g>\n     <g id=\"text_9\">\n      <!-- 5 -->\n      <g style=\"fill:#ffffff;\" transform=\"translate(13.5625 51.871719)scale(0.1 -0.1)\">\n       <use xlink:href=\"#DejaVuSans-53\"/>\n      </g>\n     </g>\n    </g>\n    <g id=\"ytick_3\">\n     <g id=\"line2d_10\">\n      <g>\n       <use style=\"fill:#ffffff;stroke:#ffffff;stroke-width:0.8;\" x=\"26.925\" xlink:href=\"#m010eab0c91\" y=\"82.0475\"/>\n      </g>\n     </g>\n     <g id=\"text_10\">\n      <!-- 10 -->\n      <g style=\"fill:#ffffff;\" transform=\"translate(7.2 85.846719)scale(0.1 -0.1)\">\n       <use xlink:href=\"#DejaVuSans-49\"/>\n       <use x=\"63.623047\" xlink:href=\"#DejaVuSans-48\"/>\n      </g>\n     </g>\n    </g>\n    <g id=\"ytick_4\">\n     <g id=\"line2d_11\">\n      <g>\n       <use style=\"fill:#ffffff;stroke:#ffffff;stroke-width:0.8;\" x=\"26.925\" xlink:href=\"#m010eab0c91\" y=\"116.0225\"/>\n      </g>\n     </g>\n     <g id=\"text_11\">\n      <!-- 15 -->\n      <g style=\"fill:#ffffff;\" transform=\"translate(7.2 119.821719)scale(0.1 -0.1)\">\n       <use xlink:href=\"#DejaVuSans-49\"/>\n       <use x=\"63.623047\" xlink:href=\"#DejaVuSans-53\"/>\n      </g>\n     </g>\n    </g>\n    <g id=\"ytick_5\">\n     <g id=\"line2d_12\">\n      <g>\n       <use style=\"fill:#ffffff;stroke:#ffffff;stroke-width:0.8;\" x=\"26.925\" xlink:href=\"#m010eab0c91\" y=\"149.9975\"/>\n      </g>\n     </g>\n     <g id=\"text_12\">\n      <!-- 20 -->\n      <g style=\"fill:#ffffff;\" transform=\"translate(7.2 153.796719)scale(0.1 -0.1)\">\n       <use xlink:href=\"#DejaVuSans-50\"/>\n       <use x=\"63.623047\" xlink:href=\"#DejaVuSans-48\"/>\n      </g>\n     </g>\n    </g>\n    <g id=\"ytick_6\">\n     <g id=\"line2d_13\">\n      <g>\n       <use style=\"fill:#ffffff;stroke:#ffffff;stroke-width:0.8;\" x=\"26.925\" xlink:href=\"#m010eab0c91\" y=\"183.9725\"/>\n      </g>\n     </g>\n     <g id=\"text_13\">\n      <!-- 25 -->\n      <g style=\"fill:#ffffff;\" transform=\"translate(7.2 187.771719)scale(0.1 -0.1)\">\n       <use xlink:href=\"#DejaVuSans-50\"/>\n       <use x=\"63.623047\" xlink:href=\"#DejaVuSans-53\"/>\n      </g>\n     </g>\n    </g>\n    <g id=\"ytick_7\">\n     <g id=\"line2d_14\">\n      <g>\n       <use style=\"fill:#ffffff;stroke:#ffffff;stroke-width:0.8;\" x=\"26.925\" xlink:href=\"#m010eab0c91\" y=\"217.9475\"/>\n      </g>\n     </g>\n     <g id=\"text_14\">\n      <!-- 30 -->\n      <g style=\"fill:#ffffff;\" transform=\"translate(7.2 221.746719)scale(0.1 -0.1)\">\n       <use xlink:href=\"#DejaVuSans-51\"/>\n       <use x=\"63.623047\" xlink:href=\"#DejaVuSans-48\"/>\n      </g>\n     </g>\n    </g>\n   </g>\n   <g id=\"patch_3\">\n    <path d=\"M 26.925 228.14 \nL 26.925 10.7 \n\" style=\"fill:none;stroke:#ffffff;stroke-linecap:square;stroke-linejoin:miter;stroke-width:0.8;\"/>\n   </g>\n   <g id=\"patch_4\">\n    <path d=\"M 244.365 228.14 \nL 244.365 10.7 \n\" style=\"fill:none;stroke:#ffffff;stroke-linecap:square;stroke-linejoin:miter;stroke-width:0.8;\"/>\n   </g>\n   <g id=\"patch_5\">\n    <path d=\"M 26.925 228.14 \nL 244.365 228.14 \n\" style=\"fill:none;stroke:#ffffff;stroke-linecap:square;stroke-linejoin:miter;stroke-width:0.8;\"/>\n   </g>\n   <g id=\"patch_6\">\n    <path d=\"M 26.925 10.7 \nL 244.365 10.7 \n\" style=\"fill:none;stroke:#ffffff;stroke-linecap:square;stroke-linejoin:miter;stroke-width:0.8;\"/>\n   </g>\n  </g>\n </g>\n <defs>\n  <clipPath id=\"p8ac603a755\">\n   <rect height=\"217.44\" width=\"217.44\" x=\"26.925\" y=\"10.7\"/>\n  </clipPath>\n </defs>\n</svg>\n",
      "text/plain": "<Figure size 432x288 with 1 Axes>"
     },
     "metadata": {},
     "output_type": "display_data"
    }
   ],
   "source": [
    "image = cv2.imread(\"/home/sonduong/catkin_ws/src/beginner_tutorials/scripts/sign_data_temp/64[[1.4752798]].png\")\n",
    "image = cv2.resize(image, (32,32))\n",
    "image = cv2.cvtColor(image, cv2.COLOR_BGR2RGB)\n",
    "imshow(image)"
   ]
  },
  {
   "cell_type": "code",
   "execution_count": 211,
   "metadata": {},
   "outputs": [
    {
     "data": {
      "text/plain": "array([[0.4626727]], dtype=float32)"
     },
     "execution_count": 211,
     "metadata": {},
     "output_type": "execute_result"
    }
   ],
   "source": [
    "result = model.predict(np.array([image]))\n",
    "result"
   ]
  },
  {
   "cell_type": "code",
   "execution_count": null,
   "metadata": {},
   "outputs": [],
   "source": []
  }
 ]
}